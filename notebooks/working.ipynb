{
 "cells": [
  {
   "cell_type": "code",
   "execution_count": null,
   "metadata": {
    "vscode": {
     "languageId": "plaintext"
    }
   },
   "outputs": [],
   "source": [
    "import requests\n",
    "import pandas as pd\n",
    "\n",
    "QUIZ_API = \"https://example.com/api/quiz\"  # Replace with actual API\n",
    "\n",
    "def fetch_quiz_data(user_id):\n",
    "    response = requests.get(f\"{QUIZ_API}/{user_id}\")\n",
    "    if response.status_code == 200:\n",
    "        return pd.DataFrame(response.json())  # Convert JSON to DataFrame\n",
    "    return None\n"
   ]
  }
 ],
 "metadata": {
  "language_info": {
   "name": "python"
  }
 },
 "nbformat": 4,
 "nbformat_minor": 2
}
